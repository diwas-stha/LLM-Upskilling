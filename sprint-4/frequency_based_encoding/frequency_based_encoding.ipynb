{
 "cells": [
  {
   "cell_type": "code",
   "execution_count": 30,
   "metadata": {},
   "outputs": [],
   "source": [
    "document_corpus = [\"this is good phone phone\" , \n",
    "                   \"this is bad mobile mobile\" , \n",
    "                   \"she is good good cat\" , \n",
    "                   \"he has bad temper temper\" , \n",
    "                   \"this mobile phone phone is not good good\"]"
   ]
  },
  {
   "cell_type": "code",
   "execution_count": 31,
   "metadata": {},
   "outputs": [
    {
     "name": "stdout",
     "output_type": "stream",
     "text": [
      "['bad', 'cat', 'good', 'has', 'he', 'is', 'mobile', 'not', 'phone', 'she', 'temper', 'this']\n"
     ]
    }
   ],
   "source": [
    "data_corpus = set()\n",
    "for row in document_corpus:\n",
    "    for word in row.split(\" \"):\n",
    "        if word not in data_corpus:\n",
    "            data_corpus.add(word)\n",
    "\n",
    "data_corpus=sorted(data_corpus)\n",
    "\n",
    "print(data_corpus)"
   ]
  },
  {
   "cell_type": "markdown",
   "metadata": {},
   "source": [
    "## Index Based Encoding :"
   ]
  },
  {
   "cell_type": "code",
   "execution_count": 32,
   "metadata": {},
   "outputs": [
    {
     "name": "stdout",
     "output_type": "stream",
     "text": [
      "8\n"
     ]
    }
   ],
   "source": [
    "res = len(max(document_corpus, key = len).split(\" \"))\n",
    "print(res)"
   ]
  },
  {
   "cell_type": "code",
   "execution_count": 33,
   "metadata": {},
   "outputs": [
    {
     "name": "stdout",
     "output_type": "stream",
     "text": [
      "[[12, 6, 3, 9, 9, 0, 0, 0], [12, 6, 1, 7, 7, 0, 0, 0], [10, 6, 3, 3, 2, 0, 0, 0], [5, 4, 1, 11, 11, 0, 0, 0], [12, 7, 9, 9, 6, 8, 3, 3]]\n"
     ]
    }
   ],
   "source": [
    "index_based_encoding=[]\n",
    "for row in document_corpus:\n",
    "    row_encoding = []\n",
    "    split = row.split(\" \")\n",
    "    for i in range(res):\n",
    "        if i <= len(split)-1:\n",
    "            row_encoding.append(data_corpus.index(split[i])+1)\n",
    "        else:\n",
    "            row_encoding.append(0)\n",
    "    index_based_encoding.append(row_encoding)\n",
    "\n",
    "print(index_based_encoding)"
   ]
  },
  {
   "cell_type": "markdown",
   "metadata": {},
   "source": [
    "## Bag Of Words (BoW) :"
   ]
  },
  {
   "cell_type": "markdown",
   "metadata": {},
   "source": [
    "### 1. Binary BoW"
   ]
  },
  {
   "cell_type": "code",
   "execution_count": 34,
   "metadata": {},
   "outputs": [
    {
     "name": "stdout",
     "output_type": "stream",
     "text": [
      "[[0, 0, 1, 0, 0, 1, 0, 0, 1, 0, 0, 1], [1, 0, 0, 0, 0, 1, 1, 0, 0, 0, 0, 1], [0, 1, 1, 0, 0, 1, 0, 0, 0, 1, 0, 0], [1, 0, 0, 1, 1, 0, 0, 0, 0, 0, 1, 0], [0, 0, 1, 0, 0, 1, 1, 1, 1, 0, 0, 1]]\n"
     ]
    }
   ],
   "source": [
    "one_hot_encoding = []\n",
    "for row in document_corpus:\n",
    "    row_encoding = []\n",
    "    split = row.split(\" \")\n",
    "    for word in data_corpus:\n",
    "        if word in split:\n",
    "            row_encoding.append(1)\n",
    "        else:\n",
    "            row_encoding.append(0)\n",
    "    one_hot_encoding.append(row_encoding)\n",
    "\n",
    "print(one_hot_encoding)"
   ]
  },
  {
   "cell_type": "markdown",
   "metadata": {},
   "source": [
    "### 2. BoW"
   ]
  },
  {
   "cell_type": "code",
   "execution_count": 35,
   "metadata": {},
   "outputs": [
    {
     "name": "stdout",
     "output_type": "stream",
     "text": [
      "[[0, 0, 1, 0, 0, 1, 0, 0, 2, 0, 0, 1], [1, 0, 0, 0, 0, 1, 2, 0, 0, 0, 0, 1], [0, 1, 2, 0, 0, 1, 0, 0, 0, 1, 0, 0], [1, 0, 0, 1, 1, 0, 0, 0, 0, 0, 2, 0], [0, 0, 2, 0, 0, 1, 1, 1, 2, 0, 0, 1]]\n"
     ]
    }
   ],
   "source": [
    "one_hot_encoding = []\n",
    "for row in document_corpus:\n",
    "    row_encoding = []\n",
    "    split = row.split(\" \")\n",
    "    for word in data_corpus:\n",
    "        count = split.count(word)\n",
    "        if word in split:\n",
    "            row_encoding.append(count)\n",
    "        else:\n",
    "            row_encoding.append(count)\n",
    "    one_hot_encoding.append(row_encoding)\n",
    "\n",
    "print(one_hot_encoding)"
   ]
  },
  {
   "cell_type": "markdown",
   "metadata": {},
   "source": [
    "## TF-IDF Encoding :"
   ]
  },
  {
   "cell_type": "code",
   "execution_count": 36,
   "metadata": {},
   "outputs": [
    {
     "name": "stdout",
     "output_type": "stream",
     "text": [
      "{0: {'this': 1, 'is': 1, 'good': 1, 'phone': 2}, 1: {'this': 1, 'is': 1, 'bad': 1, 'mobile': 2}, 2: {'she': 1, 'is': 1, 'good': 2, 'cat': 1}, 3: {'he': 1, 'has': 1, 'bad': 1, 'temper': 2}, 4: {'this': 1, 'mobile': 1, 'phone': 2, 'is': 1, 'not': 1, 'good': 2}}\n"
     ]
    }
   ],
   "source": [
    "tf_dict = {}\n",
    "i=0\n",
    "for row in document_corpus:\n",
    "    row_dict={}\n",
    "    split = row.split(\" \")\n",
    "    for word in split:\n",
    "        if word not in row_dict.keys():\n",
    "            row_dict[word] = split.count(word)\n",
    "    tf_dict[i] = row_dict\n",
    "    i+=1\n",
    "\n",
    "print(tf_dict)"
   ]
  },
  {
   "cell_type": "code",
   "execution_count": 88,
   "metadata": {},
   "outputs": [],
   "source": [
    "import math\n",
    "def calculate_tf(word, sentence_num):\n",
    "    row_dict = tf_dict[int(sentence_num)]\n",
    "    return row_dict[word]/sum(row_dict.values())\n",
    "\n",
    "def calculate_idf(word):\n",
    "    doc_num = 0\n",
    "    for key, value in tf_dict.items():\n",
    "        if word in value.keys():\n",
    "            doc_num+=1\n",
    "    return math.log(len(data_corpus)/doc_num+1)\n",
    "\n",
    "def tf_idf(word, sentence_num):\n",
    "    return round(calculate_tf(word, sentence_num) * calculate_idf(word),5)"
   ]
  },
  {
   "cell_type": "code",
   "execution_count": 89,
   "metadata": {},
   "outputs": [
    {
     "data": {
      "text/plain": [
       "0.7167"
      ]
     },
     "execution_count": 89,
     "metadata": {},
     "output_type": "execute_result"
    }
   ],
   "source": [
    "tf_idf('phone',0)"
   ]
  },
  {
   "cell_type": "code",
   "execution_count": 90,
   "metadata": {},
   "outputs": [
    {
     "name": "stdout",
     "output_type": "stream",
     "text": [
      "[[0, 0, 0.27726, 0, 0, 0.21972, 0, 0, 0.7167, 0, 0, 0.27726], [0.35835, 0, 0, 0, 0, 0.21972, 0.7167, 0, 0, 0, 0, 0.27726], [0, 0.49698, 0.55452, 0, 0, 0.21972, 0, 0, 0, 0.49698, 0, 0], [0.35835, 0, 0, 0.49698, 0.49698, 0, 0, 0, 0, 0, 0.99396, 0], [0, 0, 0.34657, 0, 0, 0.13733, 0.22397, 0.31061, 0.44794, 0, 0, 0.17329]]\n"
     ]
    }
   ],
   "source": [
    "tf_idf_encoding = []\n",
    "for i in range(len(document_corpus)):\n",
    "    row = document_corpus[i]\n",
    "    split = row.split(\" \")\n",
    "    row_encoding = []\n",
    "    for word in data_corpus:\n",
    "        if word in split:\n",
    "            row_encoding.append(tf_idf(word,i))\n",
    "        else:\n",
    "            row_encoding.append(0)\n",
    "    tf_idf_encoding.append(row_encoding)\n",
    "    \n",
    "print(tf_idf_encoding)"
   ]
  },
  {
   "cell_type": "markdown",
   "metadata": {},
   "source": [
    "## Scikit-Learn Implementation:"
   ]
  },
  {
   "cell_type": "markdown",
   "metadata": {},
   "source": [
    "### BoW Encoding"
   ]
  },
  {
   "cell_type": "code",
   "execution_count": 16,
   "metadata": {},
   "outputs": [
    {
     "name": "stdout",
     "output_type": "stream",
     "text": [
      "['bad', 'cat', 'good', 'has', 'he', 'is', 'mobile', 'not', 'phone', 'she', 'temper', 'this']\n"
     ]
    }
   ],
   "source": [
    "from sklearn.feature_extraction.text import CountVectorizer\n",
    "vectorizer = CountVectorizer()\n",
    "X = vectorizer.fit_transform(document_corpus)\n",
    "print(vectorizer.get_feature_names())"
   ]
  },
  {
   "cell_type": "code",
   "execution_count": 17,
   "metadata": {},
   "outputs": [
    {
     "name": "stdout",
     "output_type": "stream",
     "text": [
      "[[0 0 1 0 0 1 0 0 2 0 0 1]\n",
      " [1 0 0 0 0 1 2 0 0 0 0 1]\n",
      " [0 1 2 0 0 1 0 0 0 1 0 0]\n",
      " [1 0 0 1 1 0 0 0 0 0 2 0]\n",
      " [0 0 2 0 0 1 1 1 2 0 0 1]]\n"
     ]
    }
   ],
   "source": [
    "print(X.toarray())"
   ]
  },
  {
   "cell_type": "markdown",
   "metadata": {},
   "source": [
    "### TF-IDF Encoding"
   ]
  },
  {
   "cell_type": "code",
   "execution_count": 40,
   "metadata": {},
   "outputs": [
    {
     "name": "stdout",
     "output_type": "stream",
     "text": [
      "['bad', 'cat', 'good', 'has', 'he', 'is', 'mobile', 'not', 'phone', 'she', 'temper', 'this']\n"
     ]
    }
   ],
   "source": [
    "from sklearn.feature_extraction.text import TfidfVectorizer\n",
    "vectorizer = TfidfVectorizer()\n",
    "X = vectorizer.fit_transform(document_corpus)\n",
    "print(vectorizer.get_feature_names())"
   ]
  },
  {
   "cell_type": "code",
   "execution_count": 19,
   "metadata": {},
   "outputs": [
    {
     "name": "stdout",
     "output_type": "stream",
     "text": [
      "[[0.         0.         0.34273991 0.         0.         0.28832362\n",
      "  0.         0.         0.82578944 0.         0.         0.34273991]\n",
      " [0.4023674  0.         0.         0.         0.         0.28097242\n",
      "  0.80473481 0.         0.         0.         0.         0.33400129]\n",
      " [0.         0.49317635 0.6605719  0.         0.         0.27784695\n",
      "  0.         0.         0.         0.49317635 0.         0.        ]\n",
      " [0.31283963 0.         0.         0.38775666 0.38775666 0.\n",
      "  0.         0.         0.         0.         0.77551332 0.        ]\n",
      " [0.         0.         0.51309679 0.         0.         0.2158166\n",
      "  0.30906082 0.38307292 0.61812163 0.         0.         0.2565484 ]]\n"
     ]
    }
   ],
   "source": [
    "print(X.toarray())"
   ]
  }
 ],
 "metadata": {
  "kernelspec": {
   "display_name": "Python 3",
   "language": "python",
   "name": "python3"
  },
  "language_info": {
   "codemirror_mode": {
    "name": "ipython",
    "version": 3
   },
   "file_extension": ".py",
   "mimetype": "text/x-python",
   "name": "python",
   "nbconvert_exporter": "python",
   "pygments_lexer": "ipython3",
   "version": "3.6.3rc1"
  }
 },
 "nbformat": 4,
 "nbformat_minor": 2
}
